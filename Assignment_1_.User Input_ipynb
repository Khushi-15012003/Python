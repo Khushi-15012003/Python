{
 "cells": [
  {
   "cell_type": "code",
   "execution_count": 7,
   "id": "5d1fcf59-5cdf-4cbd-82f8-6fb41ad19a99",
   "metadata": {},
   "outputs": [
    {
     "name": "stdin",
     "output_type": "stream",
     "text": [
      "Enter the value of A : 23\n",
      "Enter the value of B : 24\n"
     ]
    },
    {
     "name": "stdout",
     "output_type": "stream",
     "text": [
      "47\n"
     ]
    }
   ],
   "source": [
    "# 1. Write a Python program to take two numbers as input and print their sum.\n",
    "\n",
    "a = int(input('Enter the value of A :'))\n",
    "b = int(input('Enter the value of B :'))\n",
    "print(a+b)"
   ]
  },
  {
   "cell_type": "code",
   "execution_count": 11,
   "id": "527b690c-3c76-48c1-a306-4e386fbc6f19",
   "metadata": {},
   "outputs": [
    {
     "name": "stdin",
     "output_type": "stream",
     "text": [
      "Enter the value of A : 25\n",
      "Enter the value of B : 14\n"
     ]
    },
    {
     "name": "stdout",
     "output_type": "stream",
     "text": [
      "11\n"
     ]
    }
   ],
   "source": [
    "# 2. Write a Python program to take two numbers as input and print their difference.\n",
    "\n",
    "a = int(input('Enter the value of A :'))\n",
    "b = int(input('Enter the value of B :'))\n",
    "print(a-b)"
   ]
  },
  {
   "cell_type": "code",
   "execution_count": 13,
   "id": "b998d07d-8ccb-40cf-8e5d-ecb3ee957b61",
   "metadata": {},
   "outputs": [
    {
     "name": "stdin",
     "output_type": "stream",
     "text": [
      "Enter the value of A : 20\n",
      "Enter the value of B : 10\n"
     ]
    },
    {
     "name": "stdout",
     "output_type": "stream",
     "text": [
      "200\n"
     ]
    }
   ],
   "source": [
    "# 3. Write a Python program to take two numbers as input and print their product.\n",
    "\n",
    "a = int(input('Enter the value of A :'))\n",
    "b = int(input('Enter the value of B :'))\n",
    "print(a*b)"
   ]
  },
  {
   "cell_type": "code",
   "execution_count": 17,
   "id": "a27b5386-45cb-48c8-b94a-d4b0f741fa50",
   "metadata": {},
   "outputs": [
    {
     "name": "stdin",
     "output_type": "stream",
     "text": [
      "Enter the value of A : 25\n",
      "Enter the value of B : 5\n"
     ]
    },
    {
     "name": "stdout",
     "output_type": "stream",
     "text": [
      "5\n"
     ]
    }
   ],
   "source": [
    "# 4. Write a Python program to take two numbers as input and print their quotient.\n",
    "\n",
    "a = int(input('Enter the value of A :'))\n",
    "b = int(input('Enter the value of B :'))\n",
    "print(a//b)"
   ]
  },
  {
   "cell_type": "code",
   "execution_count": 19,
   "id": "fad02aeb-5409-4159-9053-37cfd6ff272d",
   "metadata": {},
   "outputs": [
    {
     "name": "stdin",
     "output_type": "stream",
     "text": [
      "Enter the value of A : 27\n",
      "Enter the value of B : 5\n"
     ]
    },
    {
     "name": "stdout",
     "output_type": "stream",
     "text": [
      "2\n"
     ]
    }
   ],
   "source": [
    "# 5. Write a Python program to take two numbers as input and print their remainder.\n",
    "\n",
    "a = int(input('Enter the value of A :'))\n",
    "b = int(input('Enter the value of B :'))\n",
    "print(a%b)"
   ]
  },
  {
   "cell_type": "code",
   "execution_count": 21,
   "id": "2d0d028b-31e2-4672-99ff-53ae65e1e085",
   "metadata": {},
   "outputs": [
    {
     "name": "stdin",
     "output_type": "stream",
     "text": [
      "Enter the value of A : 2\n",
      "Enter the value of B : 3\n"
     ]
    },
    {
     "name": "stdout",
     "output_type": "stream",
     "text": [
      "8\n"
     ]
    }
   ],
   "source": [
    "# 6. Write a Python program to take two numbers as input and print their power. \n",
    "\n",
    "a = int(input('Enter the value of A :'))\n",
    "b = int(input('Enter the value of B :'))\n",
    "print(a**b)"
   ]
  },
  {
   "cell_type": "code",
   "execution_count": 23,
   "id": "7b59e494-f73b-459b-abbe-a74c06588006",
   "metadata": {},
   "outputs": [
    {
     "name": "stdin",
     "output_type": "stream",
     "text": [
      "Enter the score : 270\n",
      "Enter the no. of players : 3\n"
     ]
    },
    {
     "name": "stdout",
     "output_type": "stream",
     "text": [
      "90.0\n"
     ]
    }
   ],
   "source": [
    "# 7. Write a Python program to take two numbers as input and print their average. \n",
    "\n",
    "Total_score = int(input('Enter the score :'))\n",
    "cricketers = int(input('Enter the no. of players :'))\n",
    "avg_score = Total_score/cricketers\n",
    "\n",
    "print(avg_score)"
   ]
  },
  {
   "cell_type": "code",
   "execution_count": 33,
   "id": "8c3de1e8-6179-4a66-a755-b98f98d19061",
   "metadata": {},
   "outputs": [
    {
     "name": "stdin",
     "output_type": "stream",
     "text": [
      "Enter the value of A : 3\n"
     ]
    },
    {
     "name": "stdout",
     "output_type": "stream",
     "text": [
      "9\n"
     ]
    }
   ],
   "source": [
    "# 8. Write a Python program to take a number as input and print its square root. \n",
    "\n",
    "a = int(input('Enter the value of A :'))\n",
    "print(a**2)\n"
   ]
  },
  {
   "cell_type": "code",
   "execution_count": 31,
   "id": "c1e439b9-1ef5-4262-95d5-995cb0701a60",
   "metadata": {},
   "outputs": [
    {
     "name": "stdin",
     "output_type": "stream",
     "text": [
      "Enter the value of A : 9\n"
     ]
    },
    {
     "name": "stdout",
     "output_type": "stream",
     "text": [
      "729\n"
     ]
    }
   ],
   "source": [
    "# 9. Write a Python program to take a number as input and print its cube root. \n",
    "\n",
    "a = int(input('Enter the value of A :'))\n",
    "print(a**3)"
   ]
  },
  {
   "cell_type": "code",
   "execution_count": 37,
   "id": "e75e3dde-feab-4b66-94b6-aedc2f6dc074",
   "metadata": {},
   "outputs": [
    {
     "name": "stdin",
     "output_type": "stream",
     "text": [
      "Enter the number : 7\n"
     ]
    },
    {
     "name": "stdout",
     "output_type": "stream",
     "text": [
      "The absolute value is: 7\n"
     ]
    }
   ],
   "source": [
    "# 10. Write a Python program to take a number as input and print its absolute value. \n",
    "\n",
    "number = int(input('Enter the number :'))\n",
    "absolute_value = abs(number)\n",
    "print(\"The absolute value is:\", absolute_value)\n"
   ]
  },
  {
   "cell_type": "code",
   "execution_count": 41,
   "id": "7fe33f18-19ac-4807-a49d-d32b74f6e840",
   "metadata": {},
   "outputs": [
    {
     "name": "stdin",
     "output_type": "stream",
     "text": [
      "Enter a number:  78\n"
     ]
    },
    {
     "name": "stdout",
     "output_type": "stream",
     "text": [
      "The floor value is: 78\n"
     ]
    }
   ],
   "source": [
    "# 11. Write a Python program to take a number as input and print its floor value. \n",
    "\n",
    "import math\n",
    "number = int(input(\"Enter a number: \"))\n",
    "floor_value = math.floor(number)\n",
    "print(\"The floor value is:\", floor_value)"
   ]
  },
  {
   "cell_type": "code",
   "execution_count": 49,
   "id": "5c81a7a3-8a1d-4817-8b11-1d349574439f",
   "metadata": {},
   "outputs": [
    {
     "name": "stdin",
     "output_type": "stream",
     "text": [
      "Enter a number:  5.6\n"
     ]
    },
    {
     "name": "stdout",
     "output_type": "stream",
     "text": [
      "The ceiling value is: 6\n"
     ]
    }
   ],
   "source": [
    "# 12. Write a Python program to take a number as input and print its ceiling value. \n",
    "\n",
    "import math\n",
    "number = float(input(\"Enter a number: \"))\n",
    "ceiling_value = math.ceil(number)\n",
    "print(\"The ceiling value is:\", ceiling_value)\n"
   ]
  },
  {
   "cell_type": "code",
   "execution_count": null,
   "id": "a867fff6-6a85-4748-86a6-a455972af90b",
   "metadata": {},
   "outputs": [],
   "source": []
  }
 ],
 "metadata": {
  "kernelspec": {
   "display_name": "Python [conda env:base] *",
   "language": "python",
   "name": "conda-base-py"
  },
  "language_info": {
   "codemirror_mode": {
    "name": "ipython",
    "version": 3
   },
   "file_extension": ".py",
   "mimetype": "text/x-python",
   "name": "python",
   "nbconvert_exporter": "python",
   "pygments_lexer": "ipython3",
   "version": "3.12.7"
  }
 },
 "nbformat": 4,
 "nbformat_minor": 5
}
